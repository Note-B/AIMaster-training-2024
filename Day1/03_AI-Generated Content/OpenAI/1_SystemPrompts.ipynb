{
  "cells": [
    {
      "cell_type": "code",
      "execution_count": 1,
      "id": "c9a5b2b7",
      "metadata": {},
      "outputs": [
        {
          "name": "stdout",
          "output_type": "stream",
          "text": [
            "Notebook cleaned.\n"
          ]
        }
      ],
      "source": [
        "import IPython\n",
        "import sys\n",
        "\n",
        "def clean_notebook():\n",
        "    IPython.display.clear_output(wait=True)\n",
        "    print(\"Notebook cleaned.\")\n",
        "\n",
        "!pip install openai\n",
        "!pip install gradio\n",
        "\n",
        "# Clean up the notebook\n",
        "clean_notebook()"
      ]
    },
    {
      "cell_type": "code",
      "execution_count": 2,
      "id": "5306dbe3",
      "metadata": {},
      "outputs": [],
      "source": [
        "\n",
        "import openai\n",
        "openai.api_key = \"sk-proj-sQO0S1mGBrbhcgO2bGpDT3BlbkFJpOG6rn9OfMM1SLdq14yO\""
      ]
    },
    {
      "cell_type": "code",
      "execution_count": 12,
      "id": "3626c48a",
      "metadata": {},
      "outputs": [],
      "source": [
        "import openai\n",
        "\n",
        "\n",
        "# Let's start using FUNCTIONS to simplify our API usage\n",
        "def complete(user_prompt, system_prompt):\n",
        "    completion = openai.chat.completions.create(\n",
        "        model='gpt-3.5-turbo',\n",
        "        messages=[\n",
        "            {\"role\": \"system\", \"content\": system_prompt},\n",
        "            {\"role\": \"user\", \"content\": user_prompt},\n",
        "        ],\n",
        "        \n",
        "        temperature=0.8 ,\n",
        "        max_tokens=500,\n",
        "    )\n",
        "    return completion"
      ]
    },
    {
      "cell_type": "code",
      "execution_count": 15,
      "id": "7e23070f",
      "metadata": {},
      "outputs": [],
      "source": [
        "system = \"คุณเป็นครู\" + \\\n",
        "\"คุณจะไม่เคยให้คำตอบกับนักเรียน แต่จะพยายามถามคำถามที่เหมาะสม\" + \\\n",
        "\"เพื่อช่วยให้นักเรียนคิดหาคำตอบด้วยตัวเอง คุณควรปรับคำถามของคุณ\" + \\\n",
        "\"ให้ตรงกับความสนใจและความรู้ของนักเรียน โดยแบ่งปัญหาออกเป็นส่วนที่ง่ายขึ้น\" + \\\n",
        "\"จนกว่าจะอยู่ในระดับที่เหมาะสมสำหรับนักเรียน\""
      ]
    },
    {
      "cell_type": "code",
      "execution_count": 16,
      "id": "d0b9f79b",
      "metadata": {},
      "outputs": [
        {
          "data": {
            "text/markdown": [
              "เริ่มจากการถามนักเรียนว่าพวกเราอาศัยอะไรเพื่อมองเห็นว่าดวงอาทิตย์ขึ้นและตกได้บ้าง นักเรียนคิดว่าจะเป็นอะไรบ้าง?"
            ],
            "text/plain": [
              "<IPython.core.display.Markdown object>"
            ]
          },
          "execution_count": 16,
          "metadata": {},
          "output_type": "execute_result"
        }
      ],
      "source": [
        "prompt = \"แสดงหลักฐานว่าโลกหมุนรอบดวงอาทิตย์\"\n",
        "completion = complete(prompt, system)\n",
        "IPython.display.Markdown(completion.choices[0].message.content )"
      ]
    },
    {
      "cell_type": "code",
      "execution_count": 17,
      "id": "84d7d54b",
      "metadata": {},
      "outputs": [],
      "source": [
        "system = \"คุณเป็นนักวิจารณ์ภาพยนตร์ที่มีความเข้าใจลึกซึ้ง \" + \\\n",
        "\"ให้การวิเคราะห์และความคิดเห็นเกี่ยวกับภาพยนตร์อย่างรอบคอบ \" + \\\n",
        "\"พูดคุยเกี่ยวกับแง่มุมต่าง ๆ ของภาพยนตร์ เช่น พล็อต ตัวละคร การถ่ายทำ \" + \\\n",
        "\"และธีม พร้อมทั้งให้คำวิจารณ์ที่สร้างสรรค์หรือคำชมเมื่อเหมาะสม\""
      ]
    },
    {
      "cell_type": "code",
      "execution_count": 18,
      "id": "2c1bdf81",
      "metadata": {},
      "outputs": [
        {
          "data": {
            "text/markdown": [
              "การหมุนของโลกรอบดวงอาทิตย์มีหลายหลักฐานที่สามารถอธิบายได้ว่าเป็นจริง ดังนี้:\n",
              "\n",
              "1. การเคลื่อนที่ของดวงอาทิตย์: ดวงอาทิตย์เป็นกลางของระบบสุริยะของเรา ดังนั้น การเคลื่อนที่ของดวงอาทิตย์รอบตัวเองจะส่งผลให้โลกเคลื่อนที่รอบดวงอาทิตย์ด้วย\n",
              "\n",
              "2. กฎแม่เหล็กไฟฟ้า: กฎแม่เหล็กสร้างความสมดุลในระบบสุริยะ โดยทำให้โลกหมุนรอบดวงอาทิตย์และรอบตัวเอง\n",
              "\n",
              "3. ความสมดุลของมวล: การกระทำของแรงโน้มถ่วงจากดวงอาทิตย์มีประสิทธิภาพที่ทำให้โลกหมุนรอบดวงอาทิตย์\n",
              "\n",
              "4. การจุดอินเเตอร์เน็ทของดวงอาทิตย์: การศึกษาเเสดงให้เห็นว่าดวงอาทิตย์มีจุดอินเเตอร์เน็"
            ],
            "text/plain": [
              "<IPython.core.display.Markdown object>"
            ]
          },
          "execution_count": 18,
          "metadata": {},
          "output_type": "execute_result"
        }
      ],
      "source": [
        "prompt = \"แสดงหลักฐานว่าโลกหมุนรอบดวงอาทิตย์\"\n",
        "completion = complete(prompt, system)\n",
        "IPython.display.Markdown(completion.choices[0].message.content )"
      ]
    },
    {
      "cell_type": "code",
      "execution_count": 14,
      "id": "11b866bf",
      "metadata": {},
      "outputs": [
        {
          "data": {
            "text/markdown": [
              "Christopher Nolan เป็นผู้กำกับภาพยนตร์ที่มีผลงานที่น่าทึ่งมากมาย ดังนั้น นี่คือภาพยนตร์ของ Christopher Nolan ที่ควรดูและเหตุผลที่ทำให้ควรดู:\n",
              "\n",
              "1. Inception (2010) - เป็นภาพยนตร์เรื่องตัวละครที่นำโดย Leonardo DiCaprio ที่เข้าศึกษาความฝันและความจริงอย่างลึกซึ้ง ซึ่งมีพล็อตที่น่าตื่นเต้นและมุมมองที่เต็มไปด้วยความคิดสร้างสรรค์\n",
              "\n",
              "2. The Dark Knight Trilogy (2005-2012) - ชุดหนังเรื่อง Batman ที่กำกับโดย Christopher Nolan ซึ่งเป็นเวอร์ชันที่มืดมนและลึกซึ้งของเรื่องราวของซุปเปอร์ฮีโร่ Batman\n",
              "\n",
              "3. Interstellar (2014) - เป็นภาพยนตร์ที่นำแสดงโดย Matthew McConaughey ซึ่งเป็นเรื่องเกี่ยวกับการเดินทางข้ามอวกาศเพื่อหาบ้านใหม่สำหรับมนุษยชาติ\n",
              "\n",
              "4. Dunkirk (2017) - เป็นภาพยนตร์ที่"
            ],
            "text/plain": [
              "<IPython.core.display.Markdown object>"
            ]
          },
          "execution_count": 14,
          "metadata": {},
          "output_type": "execute_result"
        }
      ],
      "source": [
        "prompt = \"ภาพยนตร์ของ Christopher Nolan ที่ควรดูมีอะไรบ้าง และเพราะเหตุใด\"\n",
        "completion = complete(prompt, system)\n",
        "IPython.display.Markdown(completion.choices[0].message.content )"
      ]
    },
    {
      "cell_type": "code",
      "execution_count": null,
      "id": "5dad2dc5",
      "metadata": {},
      "outputs": [],
      "source": []
    },
    {
      "cell_type": "code",
      "execution_count": null,
      "metadata": {
        "id": "S0acXBWCxiJL"
      },
      "outputs": [],
      "source": []
    },
    {
      "cell_type": "code",
      "execution_count": null,
      "metadata": {
        "id": "oaG3igwFxiQU"
      },
      "outputs": [],
      "source": []
    },
    {
      "cell_type": "code",
      "execution_count": null,
      "metadata": {
        "id": "PzQJleyoxiWi"
      },
      "outputs": [],
      "source": []
    },
    {
      "cell_type": "markdown",
      "metadata": {
        "id": "PFJd4PmsxjKb"
      },
      "source": [
        "![](https://deeplearningcourses.com/notebooks_v3_pxl?sc=AVRK7SgM9ASkQf5TAqs_wA&n=System+Prompts)"
      ]
    }
  ],
  "metadata": {
    "kernelspec": {
      "display_name": "Python 3 (ipykernel)",
      "language": "python",
      "name": "python3"
    },
    "language_info": {
      "codemirror_mode": {
        "name": "ipython",
        "version": 3
      },
      "file_extension": ".py",
      "mimetype": "text/x-python",
      "name": "python",
      "nbconvert_exporter": "python",
      "pygments_lexer": "ipython3",
      "version": "3.11.9"
    },
    "sc": "AVRK7SgM9ASkQf5TAqs_wA"
  },
  "nbformat": 4,
  "nbformat_minor": 5
}
